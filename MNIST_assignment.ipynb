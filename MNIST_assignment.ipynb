{
  "nbformat": 4,
  "nbformat_minor": 0,
  "metadata": {
    "colab": {
      "name": "MNIST assignment.ipynb",
      "provenance": [],
      "authorship_tag": "ABX9TyPZpPq6HpPHGoC1ZBodzxJO",
      "include_colab_link": true
    },
    "kernelspec": {
      "name": "python3",
      "display_name": "Python 3"
    },
    "language_info": {
      "name": "python"
    }
  },
  "cells": [
    {
      "cell_type": "markdown",
      "metadata": {
        "id": "view-in-github",
        "colab_type": "text"
      },
      "source": [
        "<a href=\"https://colab.research.google.com/github/Fidi000/CSCI-191/blob/main/MNIST_assignment.ipynb\" target=\"_parent\"><img src=\"https://colab.research.google.com/assets/colab-badge.svg\" alt=\"Open In Colab\"/></a>"
      ]
    },
    {
      "cell_type": "code",
      "metadata": {
        "id": "2UCiAWIjI_Rw"
      },
      "source": [
        "import numpy as np\n",
        "import matplotlib.pyplot as plt\n",
        "import pandas as pd\n",
        "import seaborn as sns\n",
        "from sklearn.decomposition import PCA\n",
        "from sklearn import datasets\n",
        "from sklearn.linear_model import LogisticRegression\n",
        "from sklearn.metrics import accuracy_score\n",
        "from sklearn.neural_network import MLPClassifier"
      ],
      "execution_count": null,
      "outputs": []
    },
    {
      "cell_type": "markdown",
      "metadata": {
        "id": "SnpqzPoYpk0l"
      },
      "source": [
        "Gathering and unzip data from github"
      ]
    },
    {
      "cell_type": "code",
      "metadata": {
        "id": "IqiBMc6zt1AX",
        "colab": {
          "base_uri": "https://localhost:8080/"
        },
        "outputId": "548606b0-0e1b-4a97-d3dc-465cf5178a6c"
      },
      "source": [
        "!wget 'https://github.com/Fidi000/CSCI-191/raw/MLData/MNISTtrain.zip'\n",
        "!unzip '/content/MNISTtrain.zip'\n",
        "\n",
        "!wget 'https://github.com/Fidi000/CSCI-191/raw/MLData/MNISTtest.zip'\n",
        "!unzip '/content/MNISTtest.zip'"
      ],
      "execution_count": null,
      "outputs": [
        {
          "output_type": "stream",
          "name": "stdout",
          "text": [
            "--2021-12-04 23:13:38--  https://github.com/Fidi000/CSCI-191/raw/MLData/MNISTtrain.zip\n",
            "Resolving github.com (github.com)... 140.82.121.4\n",
            "Connecting to github.com (github.com)|140.82.121.4|:443... connected.\n",
            "HTTP request sent, awaiting response... 302 Found\n",
            "Location: https://raw.githubusercontent.com/Fidi000/CSCI-191/MLData/MNISTtrain.zip [following]\n",
            "--2021-12-04 23:13:38--  https://raw.githubusercontent.com/Fidi000/CSCI-191/MLData/MNISTtrain.zip\n",
            "Resolving raw.githubusercontent.com (raw.githubusercontent.com)... 185.199.108.133, 185.199.109.133, 185.199.110.133, ...\n",
            "Connecting to raw.githubusercontent.com (raw.githubusercontent.com)|185.199.108.133|:443... connected.\n",
            "HTTP request sent, awaiting response... 200 OK\n",
            "Length: 9606023 (9.2M) [application/zip]\n",
            "Saving to: ‘MNISTtrain.zip’\n",
            "\n",
            "MNISTtrain.zip      100%[===================>]   9.16M  --.-KB/s    in 0.06s   \n",
            "\n",
            "2021-12-04 23:13:39 (158 MB/s) - ‘MNISTtrain.zip’ saved [9606023/9606023]\n",
            "\n",
            "Archive:  /content/MNISTtrain.zip\n",
            "  inflating: train.csv               \n",
            "--2021-12-04 23:13:39--  https://github.com/Fidi000/CSCI-191/raw/MLData/MNISTtest.zip\n",
            "Resolving github.com (github.com)... 140.82.121.3\n",
            "Connecting to github.com (github.com)|140.82.121.3|:443... connected.\n",
            "HTTP request sent, awaiting response... 302 Found\n",
            "Location: https://raw.githubusercontent.com/Fidi000/CSCI-191/MLData/MNISTtest.zip [following]\n",
            "--2021-12-04 23:13:40--  https://raw.githubusercontent.com/Fidi000/CSCI-191/MLData/MNISTtest.zip\n",
            "Resolving raw.githubusercontent.com (raw.githubusercontent.com)... 185.199.108.133, 185.199.109.133, 185.199.110.133, ...\n",
            "Connecting to raw.githubusercontent.com (raw.githubusercontent.com)|185.199.108.133|:443... connected.\n",
            "HTTP request sent, awaiting response... 200 OK\n",
            "Length: 6385593 (6.1M) [application/zip]\n",
            "Saving to: ‘MNISTtest.zip’\n",
            "\n",
            "MNISTtest.zip       100%[===================>]   6.09M  --.-KB/s    in 0.04s   \n",
            "\n",
            "2021-12-04 23:13:40 (143 MB/s) - ‘MNISTtest.zip’ saved [6385593/6385593]\n",
            "\n",
            "Archive:  /content/MNISTtest.zip\n",
            "  inflating: test.csv                \n"
          ]
        }
      ]
    },
    {
      "cell_type": "markdown",
      "metadata": {
        "id": "cUzAw6FzgLs_"
      },
      "source": [
        "# Training Data"
      ]
    },
    {
      "cell_type": "code",
      "metadata": {
        "colab": {
          "base_uri": "https://localhost:8080/"
        },
        "id": "eD34BHl5re4z",
        "outputId": "11166383-4b50-4398-db4e-c91dee957bae"
      },
      "source": [
        "mnistTrain = pd.read_csv('/content/train.csv')\n",
        "data = mnistTrain.values\n",
        "print(data.shape)\n",
        "print (data[1,1:])"
      ],
      "execution_count": null,
      "outputs": [
        {
          "output_type": "stream",
          "name": "stdout",
          "text": [
            "(42000, 785)\n",
            "[  0   0   0   0   0   0   0   0   0   0   0   0   0   0   0   0   0   0\n",
            "   0   0   0   0   0   0   0   0   0   0   0   0   0   0   0   0   0   0\n",
            "   0   0   0   0   0   0   0   0   0   0   0   0   0   0   0   0   0   0\n",
            "   0   0   0   0   0   0   0   0   0   0   0   0   0   0   0   0   0   0\n",
            "   0   0   0   0   0   0   0   0   0   0   0   0   0   0   0   0   0   0\n",
            "   0   0   0   0   0   0   0   0   0   0   0   0   0   0   0   0   0   0\n",
            "   0   0   0   0   0   0   0   0   0   0   0   0   0   0  18  30 137 137\n",
            " 192  86  72   1   0   0   0   0   0   0   0   0   0   0   0   0   0   0\n",
            "   0   0   0   0  13  86 250 254 254 254 254 217 246 151  32   0   0   0\n",
            "   0   0   0   0   0   0   0   0   0   0   0   0   0  16 179 254 254 254\n",
            " 254 254 254 254 254 254 231  54  15   0   0   0   0   0   0   0   0   0\n",
            "   0   0   0   0   0  72 254 254 254 254 254 254 254 254 254 254 254 254\n",
            " 104   0   0   0   0   0   0   0   0   0   0   0   0   0  61 191 254 254\n",
            " 254 254 254 109  83 199 254 254 254 254 243  85   0   0   0   0   0   0\n",
            "   0   0   0   0   0   0 172 254 254 254 202 147 147  45   0  11  29 200\n",
            " 254 254 254 171   0   0   0   0   0   0   0   0   0   0   0   1 174 254\n",
            " 254  89  67   0   0   0   0   0   0 128 252 254 254 212  76   0   0   0\n",
            "   0   0   0   0   0   0   0  47 254 254 254  29   0   0   0   0   0   0\n",
            "   0   0  83 254 254 254 153   0   0   0   0   0   0   0   0   0   0  80\n",
            " 254 254 240  24   0   0   0   0   0   0   0   0  25 240 254 254 153   0\n",
            "   0   0   0   0   0   0   0   0   0  64 254 254 186   7   0   0   0   0\n",
            "   0   0   0   0   0 166 254 254 224  12   0   0   0   0   0   0   0   0\n",
            "  14 232 254 254 254  29   0   0   0   0   0   0   0   0   0  75 254 254\n",
            " 254  17   0   0   0   0   0   0   0   0  18 254 254 254 254  29   0   0\n",
            "   0   0   0   0   0   0   0  48 254 254 254  17   0   0   0   0   0   0\n",
            "   0   0   2 163 254 254 254  29   0   0   0   0   0   0   0   0   0  48\n",
            " 254 254 254  17   0   0   0   0   0   0   0   0   0  94 254 254 254 200\n",
            "  12   0   0   0   0   0   0   0  16 209 254 254 150   1   0   0   0   0\n",
            "   0   0   0   0   0  15 206 254 254 254 202  66   0   0   0   0   0  21\n",
            " 161 254 254 245  31   0   0   0   0   0   0   0   0   0   0   0  60 212\n",
            " 254 254 254 194  48  48  34  41  48 209 254 254 254 171   0   0   0   0\n",
            "   0   0   0   0   0   0   0   0   0  86 243 254 254 254 254 254 233 243\n",
            " 254 254 254 254 254  86   0   0   0   0   0   0   0   0   0   0   0   0\n",
            "   0   0 114 254 254 254 254 254 254 254 254 254 254 239  86  11   0   0\n",
            "   0   0   0   0   0   0   0   0   0   0   0   0  13 182 254 254 254 254\n",
            " 254 254 254 254 243  70   0   0   0   0   0   0   0   0   0   0   0   0\n",
            "   0   0   0   0   0   8  76 146 254 255 254 255 146  19  15   0   0   0\n",
            "   0   0   0   0   0   0   0   0   0   0   0   0   0   0   0   0   0   0\n",
            "   0   0   0   0   0   0   0   0   0   0   0   0   0   0   0   0   0   0\n",
            "   0   0   0   0   0   0   0   0   0   0   0   0   0   0   0   0   0   0\n",
            "   0   0   0   0   0   0   0   0   0   0   0   0   0   0   0   0   0   0\n",
            "   0   0   0   0   0   0   0   0   0   0   0   0   0   0   0   0   0   0\n",
            "   0   0   0   0   0   0   0   0   0   0   0   0   0   0   0   0   0   0\n",
            "   0   0   0   0   0   0   0   0   0   0]\n"
          ]
        }
      ]
    },
    {
      "cell_type": "code",
      "metadata": {
        "id": "Q4O_r2jarpgi",
        "colab": {
          "base_uri": "https://localhost:8080/",
          "height": 1000
        },
        "outputId": "160ec7e0-d805-44f2-9433-c23acc82c2d4"
      },
      "source": [
        "for row in range(1,11):\n",
        "    currentNum = mnistTrain.values[row,1:]\n",
        "    currentNum = currentNum.reshape((28,28))\n",
        "    plt.imshow(currentNum, cmap = plt.cm.binary,interpolation=\"nearest\")\n",
        "    plt.axis(\"off\")\n",
        "    plt.show()\n",
        "\n",
        "sns.set_theme(style=\"whitegrid\")\n",
        "sns.barplot(mnistTrain['label'].value_counts().index, mnistTrain['label'].value_counts())\n",
        "plt.ylabel('Label Counts')\n",
        "plt.xlabel('Label Number')\n",
        "plt.show()"
      ],
      "execution_count": null,
      "outputs": [
        {
          "output_type": "display_data",
          "data": {
            "image/png": "[encoded data removed]",
            "text/plain": [
              "<Figure size 432x288 with 1 Axes>"
            ]
          },
          "metadata": {
            "needs_background": "light"
          }
        },
        {
          "output_type": "display_data",
          "data": {
            "image/png": "[encoded data removed]",
            "text/plain": [
              "<Figure size 432x288 with 1 Axes>"
            ]
          },
          "metadata": {
            "needs_background": "light"
          }
        },
        {
          "output_type": "display_data",
          "data": {
            "image/png": "[encoded data removed]",
            "text/plain": [
              "<Figure size 432x288 with 1 Axes>"
            ]
          },
          "metadata": {
            "needs_background": "light"
          }
        },
        {
          "output_type": "display_data",
          "data": {
            "image/png": "[encoded data removed]",
            "text/plain": [
              "<Figure size 432x288 with 1 Axes>"
            ]
          },
          "metadata": {
            "needs_background": "light"
          }
        },
        {
          "output_type": "display_data",
          "data": {
            "image/png": "[encoded data removed]",
            "text/plain": [
              "<Figure size 432x288 with 1 Axes>"
            ]
          },
          "metadata": {
            "needs_background": "light"
          }
        },
        {
          "output_type": "display_data",
          "data": {
            "image/png": "[encoded data removed]",
            "text/plain": [
              "<Figure size 432x288 with 1 Axes>"
            ]
          },
          "metadata": {
            "needs_background": "light"
          }
        },
        {
          "output_type": "display_data",
          "data": {
            "image/png": "[encoded data removed]",
            "text/plain": [
              "<Figure size 432x288 with 1 Axes>"
            ]
          },
          "metadata": {
            "needs_background": "light"
          }
        },
        {
          "output_type": "display_data",
          "data": {
            "image/png": "[encoded data removed]",
            "text/plain": [
              "<Figure size 432x288 with 1 Axes>"
            ]
          },
          "metadata": {
            "needs_background": "light"
          }
        },
        {
          "output_type": "display_data",
          "data": {
            "image/png": "[encoded data removed]",
            "text/plain": [
              "<Figure size 432x288 with 1 Axes>"
            ]
          },
          "metadata": {
            "needs_background": "light"
          }
        },
        {
          "output_type": "display_data",
          "data": {
            "image/png": "[encoded data removed]",
            "text/plain": [
              "<Figure size 432x288 with 1 Axes>"
            ]
          },
          "metadata": {
            "needs_background": "light"
          }
        },
        {
          "output_type": "stream",
          "name": "stderr",
          "text": [
            "/usr/local/lib/python3.7/dist-packages/seaborn/_decorators.py:43: FutureWarning: Pass the following variables as keyword args: x, y. From version 0.12, the only valid positional argument will be `data`, and passing other arguments without an explicit keyword will result in an error or misinterpretation.\n",
            "  FutureWarning\n"
          ]
        },
        {
          "output_type": "display_data",
          "data": {
            "image/png": "[encoded data removed]",
            "text/plain": [
              "<Figure size 432x288 with 1 Axes>"
            ]
          },
          "metadata": {}
        }
      ]
    },
    {
      "cell_type": "markdown",
      "metadata": {
        "id": "xrc5QuRqrwlX"
      },
      "source": [
        ""
      ]
    },
    {
      "cell_type": "code",
      "metadata": {
        "id": "361ioF2Srw7V",
        "colab": {
          "base_uri": "https://localhost:8080/"
        },
        "outputId": "36d19df0-7fd1-407a-cda9-dac045c37c74"
      },
      "source": [
        "mnist_test = pd.read_csv('/content/test.csv')\n",
        "mnist_test.info()\n",
        "mnist_test.index.name='ImageId'\n",
        "\n",
        "mnist_test['label']=1\n",
        "\n",
        "mnist_test.index+=1\n",
        "mnist_test['label'].to_csv('MnistOne.csv', index=True, header=True)\n",
        "print(mnist_test.values[1,1:])"
      ],
      "execution_count": null,
      "outputs": [
        {
          "output_type": "stream",
          "name": "stdout",
          "text": [
            "<class 'pandas.core.frame.DataFrame'>\n",
            "RangeIndex: 28000 entries, 0 to 27999\n",
            "Columns: 784 entries, pixel0 to pixel783\n",
            "dtypes: int64(784)\n",
            "memory usage: 167.5 MB\n",
            "[  0   0   0   0   0   0   0   0   0   0   0   0   0   0   0   0   0   0\n",
            "   0   0   0   0   0   0   0   0   0   0   0   0   0   0   0   0   0   0\n",
            "   0   0   0   0   0   0   0   0   0   0   0   0   0   0   0   0   0   0\n",
            "   0   0   0   0   0   0   0   0   0   0   0   0   0   0   0   0   0   0\n",
            "   0   0   0   0   0   0   0   0   0   0   0   0   0   0   0   0   0   0\n",
            "   0   0   0   0   0   0   0   0   0   0   0   0   0   0   0   0   0   0\n",
            "   0   0   0   0   0   0   0   0   0   0   0   0   0   0   0   0   0   0\n",
            "   0   0   0   0   0   0   0   0   0   0   0   0   0   0   0   0   0   0\n",
            "   0   0   0   0   0   0   0   0   0   0   0   0   0   0   0   0   0   0\n",
            "   0   0   0   0   0   0   0   0   0   0   0   0   0   0   0   0  29  85\n",
            "  85  85  85  85  85  85  85  71   0   0   0   0   0   0   0   0   0   0\n",
            "   0   0   0   0   0   0 107 128 168 250 250 250 252 250 250 250 250 231\n",
            " 127  63   0   0   0   0   0   0   0   0   0   0   0   0  85 168 237 252\n",
            " 250 250 250 250 252 250 250 250 250 252 250 209  56   0   0   0   0   0\n",
            "   0   0   0   0   0   0 127 250 250 252 250 250 250 250 252 250 250 250\n",
            " 250 252 250 250  83   0   0   0   0   0   0   0   0   0   8 113 252 252\n",
            " 252 247 210 210 210 210 177   0   0   0   0  43 252 252  83   0   0   0\n",
            "   0   0   0   0   0   0  43 250 250 250 250 210   0   0   0   0   0   0\n",
            "   0   0   0  28 194 250 138  14   0   0   0   0   0   0   0   0  43 250\n",
            " 250 250 250 210   0   0   0   0   0   0   0   0   0   0  85 250 250  41\n",
            "   0   0   0   0   0   0   0   0  43 250 250 137  83  70   0   0   0   0\n",
            "   0   0   0   0   0   0  28 167 250  41   0   0   0   0   0   0   0   0\n",
            " 219 250 144  14   0   0   0   0   0   0   0   0   0   0   0   0   0 127\n",
            " 250 217   0   0   0   0   0   0   0   0 254 238 105   0   0   0   0   0\n",
            "   0   0   0   0   0   0   0   0  15 148 252 252   0   0   0   0   0   0\n",
            "   0   0 252 166   0   0   0   0   0   0   0   0   0   0   0   0   0  85\n",
            " 140 250 250 179   0   0   0   0   0   0   0   0 252 208  63   0   0   0\n",
            "   0   0   0   0   0   0   0  85 127 252 250 250 250  41   0   0   0   0\n",
            "   0   0   0   0 252 250 209  56   0   0   0   0   0 141 170 168 168 223\n",
            " 250 252 250 250 137  14   0   0   0   0   0   0   0   0 252 250 250 223\n",
            " 210 212 210 210 210 244 252 250 250 250 250 252 250 144  14   0   0   0\n",
            "   0   0   0   0   0   0  43 252 252 252 252 254 252 252 252 252 255 252\n",
            " 252 252 217 177   0   0   0   0   0   0   0   0   0   0   0   0  28 166\n",
            " 208 250 250 252 250 250 250 250 238 166 166 166  27   0   0   0   0   0\n",
            "   0   0   0   0   0   0   0   0   0   0  63 125 125 146 250 250 165 125\n",
            " 105   0   0   0   0   0   0   0   0   0   0   0   0   0   0   0   0   0\n",
            "   0   0   0   0   0  14  83  83  27   0   0   0   0   0   0   0   0   0\n",
            "   0   0   0   0   0   0   0   0   0   0   0   0   0   0   0   0   0   0\n",
            "   0   0   0   0   0   0   0   0   0   0   0   0   0   0   0   0   0   0\n",
            "   0   0   0   0   0   0   0   0   0   0   0   0   0   0   0   0   0   0\n",
            "   0   0   0   0   0   0   0   0   0   0   0   0   0   0   0   0   0   0\n",
            "   0   0   0   0   0   0   0   0   0   0   0   0   0   0   0   0   0   0\n",
            "   0   0   0   0   0   0   0   0   0   0   0   0   0   0   0   0   0   0\n",
            "   0   0   0   0   0   0   0   0   0   1]\n"
          ]
        }
      ]
    },
    {
      "cell_type": "markdown",
      "metadata": {
        "id": "nW60G5IOgRMF"
      },
      "source": [
        "Reduction"
      ]
    },
    {
      "cell_type": "code",
      "metadata": {
        "id": "yQq8E42qrywL",
        "colab": {
          "base_uri": "https://localhost:8080/"
        },
        "outputId": "1f6ad54c-684a-4688-be1b-b0be900f9189"
      },
      "source": [
        "rnd_pca4 = PCA(n_components=4)\n",
        "rnd_pca4.fit(mnist_test.values[:,1:])\n",
        "X_reduced4 = rnd_pca4.transform(mnist_test.values[:,1:])\n",
        "\n",
        "for i in range(20, 220, 20):\n",
        "  rnd_pca = PCA(n_components=i)\n",
        "  rnd_pca.fit(data[:,1:])\n",
        "  X_reduced = rnd_pca.transform(data[:,1:])\n",
        "  print(X_reduced.shape)\n",
        "  clf = LogisticRegression(solver='saga',\n",
        "                        max_iter=10000)\n",
        "  clf.fit(X_reduced, data[:, 0] )\n",
        "  predict = clf.predict(X_reduced)\n",
        "  print(\"Prediction: \", predict)\n",
        "  print(\"Accuracy = \", accuracy_score(predict, data[:, 0]))"
      ],
      "execution_count": null,
      "outputs": [
        {
          "output_type": "stream",
          "name": "stdout",
          "text": [
            "(42000, 20)\n",
            "Prediction:  [1 0 1 ... 7 6 9]\n",
            "Accuracy =  0.8660952380952381\n",
            "(42000, 40)\n",
            "Prediction:  [1 0 1 ... 7 6 9]\n",
            "Accuracy =  0.8965238095238095\n",
            "(42000, 60)\n",
            "Prediction:  [1 0 1 ... 7 6 9]\n",
            "Accuracy =  0.9093333333333333\n",
            "(42000, 80)\n",
            "Prediction:  [1 0 1 ... 7 6 9]\n",
            "Accuracy =  0.9145238095238095\n",
            "(42000, 100)\n",
            "Prediction:  [1 0 1 ... 7 6 9]\n",
            "Accuracy =  0.9168571428571428\n",
            "(42000, 120)\n",
            "Prediction:  [1 0 1 ... 7 6 9]\n",
            "Accuracy =  0.9210952380952381\n",
            "(42000, 140)\n",
            "Prediction:  [1 0 1 ... 7 6 9]\n",
            "Accuracy =  0.923952380952381\n",
            "(42000, 160)\n",
            "Prediction:  [1 0 1 ... 7 6 9]\n",
            "Accuracy =  0.9253095238095238\n",
            "(42000, 180)\n",
            "Prediction:  [1 0 1 ... 7 6 9]\n",
            "Accuracy =  0.9267142857142857\n",
            "(42000, 200)\n",
            "Prediction:  [1 0 1 ... 7 6 9]\n",
            "Accuracy =  0.9284285714285714\n"
          ]
        }
      ]
    },
    {
      "cell_type": "code",
      "metadata": {
        "id": "1rgnQH2Jr0DR",
        "colab": {
          "base_uri": "https://localhost:8080/",
          "height": 727
        },
        "outputId": "3ed3c0b6-7bc9-4e95-b9a1-20d5e2a5d6fb"
      },
      "source": [
        "eigennumbers = rnd_pca4.components_.reshape((4,28,28))\n",
        "print (len(myNumber))\n",
        "myNumber=myNumber.reshape((28,28))\n",
        "plt.imshow(myNumber, cmap = plt.cm.binary,\n",
        "           interpolation=\"nearest\")\n",
        "plt.axis(\"off\")\n",
        "plt.show()\n",
        "myNumber = eigennumbers[1]\n",
        "myNumber=myNumber.reshape((28,28))\n",
        "plt.imshow(myNumber, cmap = plt.cm.binary,\n",
        "           interpolation=\"nearest\")\n",
        "plt.axis(\"off\")\n",
        "plt.show()\n",
        "myNumber = eigennumbers[2]\n",
        "myNumber=myNumber.reshape((28,28))\n",
        "plt.imshow(myNumber, cmap = plt.cm.binary,\n",
        "           interpolation=\"nearest\")\n",
        "plt.axis(\"off\")\n",
        "plt.show()"
      ],
      "execution_count": null,
      "outputs": [
        {
          "output_type": "stream",
          "name": "stdout",
          "text": [
            "28\n"
          ]
        },
        {
          "output_type": "display_data",
          "data": {
            "image/png": "[encoded data removed]",
            "text/plain": [
              "<Figure size 432x288 with 1 Axes>"
            ]
          },
          "metadata": {}
        },
        {
          "output_type": "display_data",
          "data": {
            "image/png": "[encoded data removed]",
            "text/plain": [
              "<Figure size 432x288 with 1 Axes>"
            ]
          },
          "metadata": {}
        },
        {
          "output_type": "display_data",
          "data": {
            "image/png": "[encoded data removed]",
            "text/plain": [
              "<Figure size 432x288 with 1 Axes>"
            ]
          },
          "metadata": {}
        }
      ]
    },
    {
      "cell_type": "markdown",
      "metadata": {
        "id": "rsqEInitnLsw"
      },
      "source": [
        "MLP"
      ]
    },
    {
      "cell_type": "code",
      "metadata": {
        "colab": {
          "base_uri": "https://localhost:8080/"
        },
        "id": "f-Z93lW9nLM8",
        "outputId": "56c53e93-8088-4777-a689-deb200fc3a89"
      },
      "source": [
        "from sklearn.linear_model import Perceptron\n",
        "MLP200 = MLPClassifier()\n",
        "MLP200.fit(X_reduced, mnistTrain.values[:,0])\n",
        "MLPPred = MLP200.predict(X_reduced)\n",
        "test_df['label']= Pred_MLP_200\n",
        "test_df['label'].to_csv('MNISTMLP_components_200.csv', index=True, header=True)"
      ],
      "execution_count": null,
      "outputs": [
        {
          "output_type": "stream",
          "name": "stdout",
          "text": [
            "MLPClassifier()\n",
            "[1 0 1 ... 7 6 9]\n"
          ]
        }
      ]
    }
  ]
}