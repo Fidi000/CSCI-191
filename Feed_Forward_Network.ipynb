{
  "nbformat": 4,
  "nbformat_minor": 0,
  "metadata": {
    "colab": {
      "name": "Feed Forward Network",
      "provenance": [],
      "authorship_tag": "ABX9TyNTuSRUSjd//WGLX9zcPvPn",
      "include_colab_link": true
    },
    "kernelspec": {
      "name": "python3",
      "display_name": "Python 3"
    },
    "language_info": {
      "name": "python"
    }
  },
  "cells": [
    {
      "cell_type": "markdown",
      "metadata": {
        "id": "view-in-github",
        "colab_type": "text"
      },
      "source": [
        "<a href=\"https://colab.research.google.com/github/Fidi000/CSCI-191/blob/main/Feed_Forward_Network.ipynb\" target=\"_parent\"><img src=\"https://colab.research.google.com/assets/colab-badge.svg\" alt=\"Open In Colab\"/></a>"
      ]
    },
    {
      "cell_type": "markdown",
      "metadata": {
        "id": "OSHWk-WuCNd2"
      },
      "source": [
        "## Fidel Diaz\n",
        "CSCI 191 Machine Learning"
      ]
    },
    {
      "cell_type": "code",
      "metadata": {
        "id": "c_jnwIryCMrN"
      },
      "source": [
        "import math\n",
        "import plotly.express as px"
      ],
      "execution_count": 21,
      "outputs": []
    },
    {
      "cell_type": "markdown",
      "metadata": {
        "id": "XpmpY58eIpv1"
      },
      "source": [
        "# Given weighted vectors"
      ]
    },
    {
      "cell_type": "code",
      "metadata": {
        "id": "c6la4hGoIs0v"
      },
      "source": [
        "V1 = (0.32620883, -8.71647388, 8.39004239)\n",
        "w1 = (3.19304864, 9.93278091, -4.74659947)\n",
        "w2 = (-1.59451474, 9.97879746, 4.47953684)"
      ],
      "execution_count": 22,
      "outputs": []
    },
    {
      "cell_type": "markdown",
      "metadata": {
        "id": "8-3L91VNI5h9"
      },
      "source": [
        "# Given test points"
      ]
    },
    {
      "cell_type": "code",
      "metadata": {
        "colab": {
          "base_uri": "https://localhost:8080/"
        },
        "id": "vHfsE7sVI8FC",
        "outputId": "54de438c-1096-4415-d71e-7a59ce258039"
      },
      "source": [
        "X = [(0,0), (0,1), (1,0), (1,1)]\n",
        "x1 = [x1 for (x1, x2) in X]\n",
        "x2 = [x2 for (x1, x2) in X]\n",
        "xVals = [(1, x1, x2) for (x1, x2) in X]\n",
        "print(\"test points\", X)"
      ],
      "execution_count": 23,
      "outputs": [
        {
          "output_type": "stream",
          "name": "stdout",
          "text": [
            "test points [(0, 0), (0, 1), (1, 0), (1, 1)]\n"
          ]
        }
      ]
    },
    {
      "cell_type": "markdown",
      "metadata": {
        "id": "sgq6qkXQKlN4"
      },
      "source": [
        "# Functions\n",
        "F(w,x)"
      ]
    },
    {
      "cell_type": "code",
      "metadata": {
        "id": "9tE4DOYTMjpT"
      },
      "source": [
        "def F(W,X): \n",
        "  return sum([w*x for w,x in zip(W,X)])"
      ],
      "execution_count": 28,
      "outputs": []
    },
    {
      "cell_type": "markdown",
      "metadata": {
        "id": "3JiTjKVxM5mN"
      },
      "source": [
        "Sigmoid function\n"
      ]
    },
    {
      "cell_type": "code",
      "metadata": {
        "id": "Bk-Mdt8aNDtO"
      },
      "source": [
        "def sigmoid(x):\n",
        "  return (1.0 / (1.0 + math.exp(-x)))"
      ],
      "execution_count": 29,
      "outputs": []
    },
    {
      "cell_type": "markdown",
      "metadata": {
        "id": "Jjo9yV4cM730"
      },
      "source": [
        "Classification"
      ]
    },
    {
      "cell_type": "code",
      "metadata": {
        "id": "gfBCfzhrNELe"
      },
      "source": [
        "def classify(model, x):\n",
        "  return [1 if sigmoid(F(model, x)) > 0.5 else 0 for x in X]"
      ],
      "execution_count": 30,
      "outputs": []
    },
    {
      "cell_type": "markdown",
      "metadata": {
        "id": "wQy4qB-IR3iy"
      },
      "source": [
        "Calculating Zi"
      ]
    },
    {
      "cell_type": "code",
      "metadata": {
        "id": "GYijyS1yR2s5"
      },
      "source": [
        "Z1 = [sigmoid(F(w1, x)) for x in xVals]\n",
        "Z2 = [sigmoid(F(w2, x)) for x in xVals]\n",
        "zVals = [(1, z1, z2) for (z1, z2) in zip(Z1, Z2)]"
      ],
      "execution_count": 36,
      "outputs": []
    },
    {
      "cell_type": "markdown",
      "metadata": {
        "id": "olqry4rKXfXb"
      },
      "source": [
        "Results for Z1"
      ]
    },
    {
      "cell_type": "code",
      "metadata": {
        "colab": {
          "base_uri": "https://localhost:8080/"
        },
        "id": "xUduh6xaXfdN",
        "outputId": "87a79104-774a-4611-b27c-a76071df687e"
      },
      "source": [
        "print(Z1)"
      ],
      "execution_count": 37,
      "outputs": [
        {
          "output_type": "stream",
          "name": "stdout",
          "text": [
            "[0.9605718456066229, 0.17457400953677152, 0.9999980069243171, 0.9997704660571543]\n"
          ]
        }
      ]
    },
    {
      "cell_type": "markdown",
      "metadata": {
        "id": "Fk1gJkphXfq2"
      },
      "source": [
        "Results for Z2"
      ]
    },
    {
      "cell_type": "code",
      "metadata": {
        "colab": {
          "base_uri": "https://localhost:8080/"
        },
        "id": "uwVc6k0nXfw4",
        "outputId": "7b5eaba9-d6bd-4e50-aec9-b75189fed7d0"
      },
      "source": [
        "print(Z2)"
      ],
      "execution_count": 40,
      "outputs": [
        {
          "output_type": "stream",
          "name": "stdout",
          "text": [
            "[0.16874965243320605, 0.9471010398304239, 0.9997716226203648, 0.9999974099209205]\n"
          ]
        }
      ]
    },
    {
      "cell_type": "markdown",
      "metadata": {
        "id": "pdsN0HygTOp7"
      },
      "source": [
        "Calculating Y"
      ]
    },
    {
      "cell_type": "code",
      "metadata": {
        "colab": {
          "base_uri": "https://localhost:8080/"
        },
        "id": "-NrRuVLLTO7W",
        "outputId": "a5c87fb5-9c3e-4e80-fa9a-a84934dd98db"
      },
      "source": [
        "y1 = [F(V1, z) for z in zVals]\n",
        "print(\"Y1: \", y1)"
      ],
      "execution_count": 42,
      "outputs": [
        {
          "output_type": "stream",
          "name": "stdout",
          "text": [
            "Y1:  [-6.630773834881156, 6.750756907536195, -0.0021213833039261942, 0.0017563357441172656]\n"
          ]
        }
      ]
    },
    {
      "cell_type": "markdown",
      "metadata": {
        "id": "hlYBz29ETxIe"
      },
      "source": [
        "classification"
      ]
    },
    {
      "cell_type": "code",
      "metadata": {
        "colab": {
          "base_uri": "https://localhost:8080/"
        },
        "id": "-BsYvV8QTxOx",
        "outputId": "481f1d01-594b-4222-874b-0e4786765749"
      },
      "source": [
        "classification = classify(V1, zVals)\n",
        "print(\"Predictions: \", classification)"
      ],
      "execution_count": 44,
      "outputs": [
        {
          "output_type": "stream",
          "name": "stdout",
          "text": [
            "Predictions:  [0, 0, 1, 0]\n",
            "\n"
          ]
        }
      ]
    },
    {
      "cell_type": "markdown",
      "metadata": {
        "id": "6mDQnOqUZbq2"
      },
      "source": [
        "Test points with predicted classification"
      ]
    },
    {
      "cell_type": "code",
      "metadata": {
        "colab": {
          "base_uri": "https://localhost:8080/"
        },
        "id": "wgPX6e_LZbwo",
        "outputId": "59a7e1ab-c497-41cd-f5ae-2a3e5c18ef67"
      },
      "source": [
        "testClass = list(zip(X, classification))\n",
        "print(testClass)"
      ],
      "execution_count": 45,
      "outputs": [
        {
          "output_type": "stream",
          "name": "stdout",
          "text": [
            "[((0, 0), 0), ((0, 1), 0), ((1, 0), 1), ((1, 1), 0)]\n"
          ]
        }
      ]
    }
  ]
}