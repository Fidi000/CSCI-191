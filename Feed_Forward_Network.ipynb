{
  "nbformat": 4,
  "nbformat_minor": 0,
  "metadata": {
    "colab": {
      "name": "Feed Forward Network",
      "provenance": [],
      "authorship_tag": "ABX9TyMnhi27tWx8CgcRDc9h944w",
      "include_colab_link": true
    },
    "kernelspec": {
      "name": "python3",
      "display_name": "Python 3"
    },
    "language_info": {
      "name": "python"
    }
  },
  "cells": [
    {
      "cell_type": "markdown",
      "metadata": {
        "id": "view-in-github",
        "colab_type": "text"
      },
      "source": [
        "<a href=\"https://colab.research.google.com/github/Fidi000/CSCI-191/blob/main/Feed_Forward_Network.ipynb\" target=\"_parent\"><img src=\"https://colab.research.google.com/assets/colab-badge.svg\" alt=\"Open In Colab\"/></a>"
      ]
    },
    {
      "cell_type": "markdown",
      "metadata": {
        "id": "OSHWk-WuCNd2"
      },
      "source": [
        "## Fidel Diaz\n",
        "CSCI 191 Machine Learning"
      ]
    },
    {
      "cell_type": "code",
      "metadata": {
        "id": "c_jnwIryCMrN"
      },
      "source": [
        "import math\n",
        "import plotly.express as px"
      ],
      "execution_count": 3,
      "outputs": []
    },
    {
      "cell_type": "markdown",
      "metadata": {
        "id": "XpmpY58eIpv1"
      },
      "source": [
        "# Given weighted vectors"
      ]
    },
    {
      "cell_type": "code",
      "metadata": {
        "id": "c6la4hGoIs0v"
      },
      "source": [
        "V1 = (0.32620883, -8.71647388, 8.39004239)\n",
        "w1 = (3.19304864, 9.93278091, -4.74659947)\n",
        "w2 = (-1.59451474, 9.97879746, 4.47953684)"
      ],
      "execution_count": 4,
      "outputs": []
    },
    {
      "cell_type": "markdown",
      "metadata": {
        "id": "8-3L91VNI5h9"
      },
      "source": [
        "# Given test points"
      ]
    },
    {
      "cell_type": "code",
      "metadata": {
        "colab": {
          "base_uri": "https://localhost:8080/"
        },
        "id": "vHfsE7sVI8FC",
        "outputId": "58106d4d-da83-4308-9e51-d6fbd9f6f2be"
      },
      "source": [
        "X = [(0,0), (0,1), (1,0), (1,1)]\n",
        "x1 = [x1 for (x1, x2) in X]\n",
        "x2 = [x2 for (x1, x2) in X]\n",
        "xVals = [(1, x1, x2) for (x1, x2) in X]\n",
        "print(\"test points\", X)"
      ],
      "execution_count": 5,
      "outputs": [
        {
          "output_type": "stream",
          "name": "stdout",
          "text": [
            "test points [(0, 0), (0, 1), (1, 0), (1, 1)]\n"
          ]
        }
      ]
    },
    {
      "cell_type": "markdown",
      "metadata": {
        "id": "sgq6qkXQKlN4"
      },
      "source": [
        "# Functions\n",
        "F(w,x)"
      ]
    },
    {
      "cell_type": "code",
      "metadata": {
        "id": "9tE4DOYTMjpT"
      },
      "source": [
        "def F(W,X): \n",
        "  return sum([w*x for w,x in zip(W,X)])"
      ],
      "execution_count": 6,
      "outputs": []
    },
    {
      "cell_type": "markdown",
      "metadata": {
        "id": "3JiTjKVxM5mN"
      },
      "source": [
        "Sigmoid function\n"
      ]
    },
    {
      "cell_type": "code",
      "metadata": {
        "id": "Bk-Mdt8aNDtO"
      },
      "source": [
        "def sigmoid(x):\n",
        "  return (1.0 / (1.0 + math.exp(-x)))"
      ],
      "execution_count": 7,
      "outputs": []
    },
    {
      "cell_type": "markdown",
      "metadata": {
        "id": "Jjo9yV4cM730"
      },
      "source": [
        "Classification"
      ]
    },
    {
      "cell_type": "code",
      "metadata": {
        "id": "gfBCfzhrNELe"
      },
      "source": [
        "def classify(model, x):\n",
        "  return [1 if sigmoid(F(model, x)) > 0.5 else 0 for x in X]"
      ],
      "execution_count": 8,
      "outputs": []
    },
    {
      "cell_type": "markdown",
      "metadata": {
        "id": "wQy4qB-IR3iy"
      },
      "source": [
        "Calculating Zi"
      ]
    },
    {
      "cell_type": "code",
      "metadata": {
        "id": "GYijyS1yR2s5"
      },
      "source": [
        "Z1 = [sigmoid(F(w1, x)) for x in xVals]\n",
        "Z2 = [sigmoid(F(w2, x)) for x in xVals]\n",
        "zVals = [(1, z1, z2) for (z1, z2) in zip(Z1, Z2)]"
      ],
      "execution_count": 9,
      "outputs": []
    },
    {
      "cell_type": "markdown",
      "metadata": {
        "id": "olqry4rKXfXb"
      },
      "source": [
        "Results for Z1"
      ]
    },
    {
      "cell_type": "code",
      "metadata": {
        "colab": {
          "base_uri": "https://localhost:8080/"
        },
        "id": "xUduh6xaXfdN",
        "outputId": "cfff4384-a128-464a-a82e-bb419335e9c5"
      },
      "source": [
        "print(Z1)"
      ],
      "execution_count": 10,
      "outputs": [
        {
          "output_type": "stream",
          "name": "stdout",
          "text": [
            "[0.9605718456066229, 0.17457400953677152, 0.9999980069243171, 0.9997704660571543]\n"
          ]
        }
      ]
    },
    {
      "cell_type": "markdown",
      "metadata": {
        "id": "Fk1gJkphXfq2"
      },
      "source": [
        "Results for Z2"
      ]
    },
    {
      "cell_type": "code",
      "metadata": {
        "colab": {
          "base_uri": "https://localhost:8080/"
        },
        "id": "uwVc6k0nXfw4",
        "outputId": "85c12481-7395-4c6a-c93a-3e89c7cd42dd"
      },
      "source": [
        "print(Z2)"
      ],
      "execution_count": 11,
      "outputs": [
        {
          "output_type": "stream",
          "name": "stdout",
          "text": [
            "[0.16874965243320605, 0.9471010398304239, 0.9997716226203648, 0.9999974099209205]\n"
          ]
        }
      ]
    },
    {
      "cell_type": "markdown",
      "metadata": {
        "id": "Ikfji6XNN_2l"
      },
      "source": [
        "The values we get for Z"
      ]
    },
    {
      "cell_type": "code",
      "metadata": {
        "colab": {
          "base_uri": "https://localhost:8080/"
        },
        "id": "JaD0XZH7OBbl",
        "outputId": "93190c87-4629-45ad-8ee0-70269ad32238"
      },
      "source": [
        "print(zVals)"
      ],
      "execution_count": 12,
      "outputs": [
        {
          "output_type": "stream",
          "name": "stdout",
          "text": [
            "[(1, 0.9605718456066229, 0.16874965243320605), (1, 0.17457400953677152, 0.9471010398304239), (1, 0.9999980069243171, 0.9997716226203648), (1, 0.9997704660571543, 0.9999974099209205)]\n"
          ]
        }
      ]
    },
    {
      "cell_type": "markdown",
      "metadata": {
        "id": "pdsN0HygTOp7"
      },
      "source": [
        "Calculating Y"
      ]
    },
    {
      "cell_type": "code",
      "metadata": {
        "colab": {
          "base_uri": "https://localhost:8080/"
        },
        "id": "-NrRuVLLTO7W",
        "outputId": "f1e510a6-7a74-46cf-86e4-550eecc69a07"
      },
      "source": [
        "y1 = [F(V1, z) for z in zVals]\n",
        "print(\"Y1: \", y1)"
      ],
      "execution_count": 13,
      "outputs": [
        {
          "output_type": "stream",
          "name": "stdout",
          "text": [
            "Y1:  [-6.630773834881156, 6.750756907536195, -0.0021213833039261942, 0.0017563357441172656]\n"
          ]
        }
      ]
    },
    {
      "cell_type": "markdown",
      "metadata": {
        "id": "hlYBz29ETxIe"
      },
      "source": [
        "classification"
      ]
    },
    {
      "cell_type": "code",
      "metadata": {
        "colab": {
          "base_uri": "https://localhost:8080/"
        },
        "id": "-BsYvV8QTxOx",
        "outputId": "69a65054-4ff3-4b8f-b323-f570cfee9583"
      },
      "source": [
        "classification = classify(V1, zVals)\n",
        "print(\"Predictions: \", classification)"
      ],
      "execution_count": 14,
      "outputs": [
        {
          "output_type": "stream",
          "name": "stdout",
          "text": [
            "Predictions:  [0, 0, 1, 0]\n"
          ]
        }
      ]
    },
    {
      "cell_type": "markdown",
      "metadata": {
        "id": "6mDQnOqUZbq2"
      },
      "source": [
        "Test points with predicted classification"
      ]
    },
    {
      "cell_type": "code",
      "metadata": {
        "colab": {
          "base_uri": "https://localhost:8080/"
        },
        "id": "wgPX6e_LZbwo",
        "outputId": "5ab6994f-94b2-4760-826d-66a1abff1c77"
      },
      "source": [
        "testClass = list(zip(X, classification))\n",
        "print(\"Test points and their classification ((X1, X2), Y): \",testClass)"
      ],
      "execution_count": 19,
      "outputs": [
        {
          "output_type": "stream",
          "name": "stdout",
          "text": [
            "Test points and their classification ((X1, X2), Y):  [((0, 0), 0), ((0, 1), 0), ((1, 0), 1), ((1, 1), 0)]\n"
          ]
        }
      ]
    }
  ]
}