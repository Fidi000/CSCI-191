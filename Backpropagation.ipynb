{
  "nbformat": 4,
  "nbformat_minor": 0,
  "metadata": {
    "colab": {
      "name": "Backpropagation ",
      "provenance": [],
      "collapsed_sections": [],
      "authorship_tag": "ABX9TyOIM6VrNZ3CccKSw5mrqh0c",
      "include_colab_link": true
    },
    "kernelspec": {
      "name": "python3",
      "display_name": "Python 3"
    },
    "language_info": {
      "name": "python"
    }
  },
  "cells": [
    {
      "cell_type": "markdown",
      "metadata": {
        "id": "view-in-github",
        "colab_type": "text"
      },
      "source": [
        "<a href=\"https://colab.research.google.com/github/Fidi000/CSCI-191/blob/main/Backpropagation.ipynb\" target=\"_parent\"><img src=\"https://colab.research.google.com/assets/colab-badge.svg\" alt=\"Open In Colab\"/></a>"
      ]
    },
    {
      "cell_type": "code",
      "metadata": {
        "id": "qfsPy5hjUi9T"
      },
      "source": [
        "import numpy as np \n",
        "import pandas as pd\n",
        "import math\n",
        "import plotly.express as px\n",
        "import random\n",
        "import time\n",
        "import sklearn\n",
        "from sklearn.neural_network import MLPClassifier\n",
        "from sklearn.metrics import accuracy_score"
      ],
      "execution_count": null,
      "outputs": []
    },
    {
      "cell_type": "code",
      "metadata": {
        "id": "bhw7lozIUvRM"
      },
      "source": [
        "F = lambda w, x:  sum([W*X for W,X in zip(w,x)])\n",
        "G = lambda y: 1/(1+np.exp(-y))\n",
        "\n",
        "def predict(model, x): \n",
        "  w1 = model[0]\n",
        "  w2 = model[1]\n",
        "  v1 = model[2]\n",
        "  z1 = G(F(w1,x))\n",
        "  z2 = G(F(w2, x))\n",
        "  Z = (1, z1, z2)\n",
        "  y = G(F(v1, Z))\n",
        "  return y\n",
        "\n",
        "def classify(Y):\n",
        "  return [1 if y > 0/5 else 0 for y in Y]"
      ],
      "execution_count": 107,
      "outputs": []
    },
    {
      "cell_type": "code",
      "metadata": {
        "id": "OwVKq4j5V598"
      },
      "source": [
        "data = [((0,0), 0), ((0,1), 1), ((1,0), 1), ((1,1), 0)]\n",
        "squaredError = []\n",
        "accuracy = []"
      ],
      "execution_count": 108,
      "outputs": []
    },
    {
      "cell_type": "code",
      "metadata": {
        "id": "YZ1fHFM9XZIh"
      },
      "source": [
        "def rand_Init():\n",
        "    return np.random.uniform(-0.01, 0.01, 3)"
      ],
      "execution_count": 109,
      "outputs": []
    },
    {
      "cell_type": "markdown",
      "metadata": {
        "id": "58Ybw-oxWtya"
      },
      "source": [
        "Initial Random weights & Learning Rate\n"
      ]
    },
    {
      "cell_type": "code",
      "metadata": {
        "colab": {
          "base_uri": "https://localhost:8080/"
        },
        "id": "I_U7xUlNYa5s",
        "outputId": "6a06431d-ee25-4ba7-932c-8e0496046f08"
      },
      "source": [
        "alpha = 0.3\n",
        "w1 = rand_Init()\n",
        "w2 = rand_Init()\n",
        "v1 = rand_Init()\n",
        "model = [w1,w2, v1]\n",
        "print(\"Learning Rate: \", alpha, \"\\n\")\n",
        "print(\"w1: \", w1, \"\\n\")\n",
        "print(\"w2: \", w2, \"\\n\")\n",
        "print(\"v1: \", v1, \"\\n\")\n",
        "print(\"model: \", model)"
      ],
      "execution_count": 110,
      "outputs": [
        {
          "output_type": "stream",
          "name": "stdout",
          "text": [
            "Learning Rate:  0.3 \n",
            "\n",
            "w1:  [ 0.00064968  0.00772718 -0.00369379] \n",
            "\n",
            "w2:  [-0.00242524 -0.00826455  0.00242038] \n",
            "\n",
            "v1:  [-0.00519887 -0.00164381 -0.00157176] \n",
            "\n",
            "model:  [array([ 0.00064968,  0.00772718, -0.00369379]), array([-0.00242524, -0.00826455,  0.00242038]), array([-0.00519887, -0.00164381, -0.00157176])]\n"
          ]
        }
      ]
    },
    {
      "cell_type": "code",
      "metadata": {
        "id": "5UApaFHDY7pQ"
      },
      "source": [
        "def backProp(iter, model, data, learningRate):\n",
        "  W1 = model[0]\n",
        "  W2 = model[1]\n",
        "  V1 = model[2]\n",
        "  for i in range(iter):\n",
        "    np.random.shuffle(data)\n",
        "    if (i % 5000) == 0: #every 1000 epochs, the squared error and accuracy is tracked\n",
        "      X = [(1, x1, x2) for ((x1, x2),r) in data]\n",
        "      R = [r for ((x1, x2),r) in data]\n",
        "      yPred = [predict([W1, W2, V1], x) for x in X]\n",
        "      classPredict = classify(yPred)\n",
        "      accuracy.append(sklearn.metrics.accuracy_score(R, classPredict))\n",
        "      squaredError.append(sum([pow(r - y, 2) for (r, y) in zip(R, yPred)]))\n",
        "    for (x, r) in data:\n",
        "      z1 = G(F(W1, x))\n",
        "      z2 = G(F(W2, x))\n",
        "      Z = (1, z1, z2)\n",
        "      y = G(F(V1,Z))\n",
        "      deltV = [learningRate * (r - y) * z for z in Z]\n",
        "      deltW1 = [learningRate * (r - y) * V1[1] * z1 * (1 - z1) * xi for xi in x]\n",
        "      deltW2 = [learningRate * (r - y) * V1[2] * z2 * (1 - z2) * xi for xi in x]\n",
        "\n",
        "      V1 = [v + dv for (v, dv) in zip(V1, deltV)]\n",
        "      W1 = [w + dw for (w, dw) in zip(W1, deltW1)]\n",
        "      W2 = [w + dw for (w, dw) in zip(W2, deltW2)]\n",
        "\n",
        "  return [W1, W2, V1]"
      ],
      "execution_count": 111,
      "outputs": []
    },
    {
      "cell_type": "markdown",
      "metadata": {
        "id": "NtMJsMVwXxaW"
      },
      "source": [
        "Final Weights"
      ]
    },
    {
      "cell_type": "code",
      "metadata": {
        "colab": {
          "base_uri": "https://localhost:8080/"
        },
        "id": "867IpkTXWwg_",
        "outputId": "35b260e1-294b-4f5a-d88e-e09f3542f54e"
      },
      "source": [
        "model = backProp(50000, model, data, alpha)\n",
        "print(model)"
      ],
      "execution_count": 112,
      "outputs": [
        {
          "output_type": "stream",
          "name": "stdout",
          "text": [
            "[[-10.60537582423769, -10.604788786216956], [-10.716519057699786, -10.715934913191505], [0.6921796171394582, -8.895099157398148, -9.854708433190336]]\n"
          ]
        }
      ]
    },
    {
      "cell_type": "markdown",
      "metadata": {
        "id": "uzzey2LnbCfK"
      },
      "source": [
        "Output for the model"
      ]
    },
    {
      "cell_type": "code",
      "metadata": {
        "colab": {
          "base_uri": "https://localhost:8080/"
        },
        "id": "T6-7PriTW0SP",
        "outputId": "1b7ed206-9cf6-4298-98ec-cd5e4c6b302b"
      },
      "source": [
        "print(\"Testing Data:\", data)\n",
        "yPredicted = [predict(model, x) for x in X]\n",
        "print(\"Y Predictions:\", yPredicted)\n",
        "print(\"Class Predictions:\", classify(yPredicted))"
      ],
      "execution_count": 113,
      "outputs": [
        {
          "output_type": "stream",
          "name": "stdout",
          "text": [
            "Testing Data: [((1, 0), 1), ((0, 1), 1), ((0, 0), 0), ((1, 1), 0)]\n",
            "Y Predictions: [0.6663540314131743, 0.6663540314131743, 0.6664516156181018, 0.6664516156181018]\n",
            "Class Predictions: [1, 1, 1, 1]\n"
          ]
        }
      ]
    },
    {
      "cell_type": "markdown",
      "metadata": {
        "id": "_NNmkpeCboKN"
      },
      "source": [
        "Squared Error and Accuracy"
      ]
    },
    {
      "cell_type": "code",
      "metadata": {
        "colab": {
          "base_uri": "https://localhost:8080/"
        },
        "id": "d9iR6lPHbnmA",
        "outputId": "e16216d2-70cf-4e6e-f19f-5298ddf2a16f"
      },
      "source": [
        "#for i in enumerate(squaredError):\n",
        "print(\"Squared Error: \", np.array(squaredError), \"\\n\")\n",
        "print(\"Accuracy: \", np.array(accuracy), \"\\n\")"
      ],
      "execution_count": 114,
      "outputs": [
        {
          "output_type": "stream",
          "name": "stdout",
          "text": [
            "Squared Error:  [1.00001158 1.12347951 1.10363514 1.11130789 1.10927041 1.12577261\n",
            " 1.1092733  1.11016425 1.12947738 1.10896325] \n",
            "\n",
            "Accuracy:  [0.5 0.5 0.5 0.5 0.5 0.5 0.5 0.5 0.5 0.5] \n",
            "\n"
          ]
        }
      ]
    },
    {
      "cell_type": "code",
      "metadata": {
        "colab": {
          "base_uri": "https://localhost:8080/"
        },
        "id": "mcmrw0EUW93m",
        "outputId": "33a27dc3-46cc-44f3-cd73-6d5c85cb071e"
      },
      "source": [
        " print(\"The 5 different initial models:\", \"\\n\")\n",
        " models = []\n",
        " for i in range(5):\n",
        "  w1 = rand_Init()\n",
        "  w2 = rand_Init()\n",
        "  v1 = rand_Init()\n",
        "  model = [w1,w2, v1]\n",
        "  models.append(model)\n",
        "  print(str(i + 1) + \":\",np.array(model), \"\\n\")\n"
      ],
      "execution_count": 115,
      "outputs": [
        {
          "output_type": "stream",
          "name": "stdout",
          "text": [
            "The 5 different initial models: \n",
            "\n",
            "1: [[-0.00144849 -0.00265758  0.00454951]\n",
            " [-0.00533548 -0.00067842 -0.00027923]\n",
            " [-0.00601115  0.00483508 -0.00306854]] \n",
            "\n",
            "2: [[ 0.00793764  0.00282966  0.0031793 ]\n",
            " [ 0.00543641 -0.00109161  0.00930341]\n",
            " [-0.0003158   0.00145622  0.00398022]] \n",
            "\n",
            "3: [[-0.00865683  0.00749852  0.00585434]\n",
            " [ 0.00241885  0.00341865 -0.00668605]\n",
            " [ 0.00327231  0.00082881 -0.00774257]] \n",
            "\n",
            "4: [[ 0.00842087  0.00655444  0.00381076]\n",
            " [-0.00807409  0.00371412  0.00971003]\n",
            " [-0.00298273 -0.00622037  0.0024288 ]] \n",
            "\n",
            "5: [[-0.00939937  0.00348528  0.00803786]\n",
            " [ 0.00604898 -0.00786752 -0.00286641]\n",
            " [ 0.00722318 -0.00566945  0.00263734]] \n",
            "\n"
          ]
        }
      ]
    },
    {
      "cell_type": "code",
      "metadata": {
        "colab": {
          "base_uri": "https://localhost:8080/"
        },
        "id": "Ogt3eR36XAwZ",
        "outputId": "cf07a8f6-5ebb-4f12-d755-27a174133a69"
      },
      "source": [
        "print(\"The 5 final models: \", \"\\n\")\n",
        "squaredError = [[] for i in range(len(models))]\n",
        "for i, model in enumerate(models):\n",
        "  models[i] = backProp(50000, model, data, alpha)\n",
        "\n",
        "for i, model in enumerate(models):\n",
        "  print(str(i + 1) + \":\", \"\\n\", np.array(model), \"\\n\")"
      ],
      "execution_count": 116,
      "outputs": [
        {
          "output_type": "stream",
          "name": "stdout",
          "text": [
            "The 5 final models:  \n",
            "\n",
            "1: \n",
            " [list([-10.622284080435971, -10.621784608155284])\n",
            " list([-10.701304061399664, -10.70080330742186])\n",
            " list([0.6799353804924899, -9.034923461582919, -9.717651463261843])] \n",
            "\n",
            "2: \n",
            " [list([-10.652157558556539, -10.65248935005405])\n",
            " list([-10.671577029273868, -10.671908600549996])\n",
            " list([0.7551259994823635, -9.2922171527576, -9.460055112221868])] \n",
            "\n",
            "3: \n",
            " [list([-10.648884997579938, -10.648522995953948])\n",
            " list([-10.67566112461795, -10.675300090270307])\n",
            " list([0.677448008581785, -9.260512343918775, -9.491941729817313])] \n",
            "\n",
            "4: \n",
            " [list([-10.638455179420339, -10.638385256476566])\n",
            " list([-10.685667450580201, -10.685599357994203])\n",
            " list([0.698150149744358, -9.172307021434023, -9.580303305217726])] \n",
            "\n",
            "5: \n",
            " [list([-10.708195382998932, -10.708328114345722])\n",
            " list([-10.613187667442544, -10.61331889218132])\n",
            " list([0.6664871722372969, -9.786187219779228, -8.965679038419129])] \n",
            "\n"
          ]
        },
        {
          "output_type": "stream",
          "name": "stderr",
          "text": [
            "/usr/local/lib/python3.7/dist-packages/ipykernel_launcher.py:7: VisibleDeprecationWarning:\n",
            "\n",
            "Creating an ndarray from ragged nested sequences (which is a list-or-tuple of lists-or-tuples-or ndarrays with different lengths or shapes) is deprecated. If you meant to do this, you must specify 'dtype=object' when creating the ndarray\n",
            "\n"
          ]
        }
      ]
    }
  ]
}